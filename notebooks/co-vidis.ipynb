{
 "cells": [
  {
   "cell_type": "markdown",
   "metadata": {},
   "source": [
    "<h1><center>Cō Vidis?</center></h1>\n",
    "\n",
    "<center><b>Cō Vidis?</b> [kʷoː ˈwɪːdɪs] ➡️ latin for \"COVID-19, where are you going?\"<br/>\n",
    "Follow the state of the Coronavirus with a focus on Switzerland 🇨🇭</center>\n"
   ]
  },
  {
   "cell_type": "code",
   "execution_count": 1,
   "metadata": {
    "tags": [
     "remove_input"
    ]
   },
   "outputs": [
    {
     "data": {
      "text/html": [
       "<style>\n",
       "    div#notebook-container {\n",
       "      padding: 40px;\n",
       "    }\n",
       "    \n",
       "    div#notebook {\n",
       "      padding-top: 40px;\n",
       "      padding-bottom: 60px;\n",
       "    }\n",
       "\n",
       "    div.prompt {\n",
       "      display: none !important;\n",
       "    }\n",
       "    \n",
       "    div.output_subarea {\n",
       "      margin: 0 auto !important;\n",
       "    }\n",
       "</style>\n"
      ],
      "text/plain": [
       "<IPython.core.display.HTML object>"
      ]
     },
     "metadata": {},
     "output_type": "display_data"
    }
   ],
   "source": [
    "%%html\n",
    "<style>\n",
    "    div#notebook-container {\n",
    "      padding: 40px;\n",
    "    }\n",
    "    \n",
    "    div#notebook {\n",
    "      padding-top: 40px;\n",
    "      padding-bottom: 60px;\n",
    "    }\n",
    "\n",
    "    div.prompt {\n",
    "      display: none !important;\n",
    "    }\n",
    "    \n",
    "    div.output_subarea {\n",
    "      margin: 0 auto !important;\n",
    "    }\n",
    "</style>"
   ]
  },
  {
   "cell_type": "markdown",
   "metadata": {
    "tags": [
     "remove_cell"
    ]
   },
   "source": [
    "## Imports"
   ]
  },
  {
   "cell_type": "code",
   "execution_count": 2,
   "metadata": {
    "tags": [
     "remove_cell"
    ]
   },
   "outputs": [],
   "source": [
    "import math\n",
    "import pandas as pd\n",
    "import numpy as np\n",
    "from matplotlib import pyplot as plt\n",
    "import seaborn as sns\n",
    "from sklearn.linear_model import LinearRegression\n",
    "import geopandas as gpd\n",
    "import geoplot as gplt\n",
    "import mapclassify as mc\n",
    "import reverse_geocoder as rg\n",
    "import countrynames\n",
    "import json\n",
    "import plotly.graph_objects as go\n",
    "\n",
    "sns.set(style=\"whitegrid\")\n",
    "%config InlineBackend.figure_format ='retina'\n",
    "\n",
    "# The command to generate the HTML\n",
    "# jupyter nbconvert covid-19.ipynb --TagRemovePreprocessor.remove_cell_tags='{\"remove_cell\"}' --TagRemovePreprocessor.remove_input_tags='{\"remove_input\"}'"
   ]
  },
  {
   "cell_type": "markdown",
   "metadata": {
    "tags": [
     "remove_cell"
    ]
   },
   "source": [
    "## Functions"
   ]
  },
  {
   "cell_type": "code",
   "execution_count": 3,
   "metadata": {
    "tags": [
     "remove_cell"
    ]
   },
   "outputs": [],
   "source": [
    "def create_by_country_dataframe(df):\n",
    "    by_country = df.T\n",
    "    by_country.columns = by_country.loc[\"Country/Region\"]\n",
    "    by_country = by_country[4:]\n",
    "    by_country = by_country.groupby(axis=1, by=by_country.columns).sum()\n",
    "    by_country.index = pd.to_datetime(by_country.index)\n",
    "    return by_country\n",
    "\n",
    "def setDatetimeIndex(df, datetime_column):    \n",
    "    df['Datetime'] = pd.to_datetime(df[datetime_column])\n",
    "    df = df.set_index('Datetime')\n",
    "    df = df.drop([datetime_column], axis=1)\n",
    "    return df\n",
    "\n",
    "def add_alpha_3(df):\n",
    "    #df = pd.DataFrame(df.sum(axis=0))\n",
    "    #df = df.rename(columns={0:\"Cases\"})\n",
    "    #df = df.reset_index()\n",
    "    return pd.merge(df, df_countries_code, on=\"Country/Region\")  \n",
    "\n",
    "def round_up(x):\n",
    "    return int(math.ceil(x / 100.0)) * 100\n",
    "\n",
    "def is_it_spreading(df):\n",
    "    return df.diff()\n",
    "\n",
    "def fill(df):\n",
    "    df = df.fillna(method=\"ffill\")\n",
    "    df = df.fillna(0)\n",
    "    return df\n",
    "\n",
    "def compute_on_x_inhabitant(value, population, x):\n",
    "    return (x * value) / population\n"
   ]
  },
  {
   "cell_type": "markdown",
   "metadata": {
    "tags": [
     "remove_cell"
    ]
   },
   "source": [
    "## Data Loading"
   ]
  },
  {
   "cell_type": "code",
   "execution_count": 4,
   "metadata": {
    "tags": [
     "remove_cell"
    ]
   },
   "outputs": [],
   "source": [
    "data = \"../data/raw/COVID-19-master/csse_covid_19_data/csse_covid_19_time_series/\"\n",
    "data_ch = \"../data/raw/covid19-cases-switzerland-master/\""
   ]
  },
  {
   "cell_type": "code",
   "execution_count": 5,
   "metadata": {
    "tags": [
     "remove_cell"
    ]
   },
   "outputs": [],
   "source": [
    "confirmed = f\"{data}time_series_covid19_confirmed_global.csv\"\n",
    "deaths = f\"{data}time_series_covid19_deaths_global.csv\"\n",
    "recovered = f\"{data}time_series_covid19_recovered_global.csv\"\n",
    "\n",
    "confirmed_ch = f\"{data_ch}covid19_cases_switzerland_openzh.csv\"\n",
    "deaths_ch = f\"{data_ch}covid19_fatalities_switzerland_openzh.csv\"\n",
    "hospitalized_ch = f\"{data_ch}covid19_hospitalized_switzerland_openzh.csv\"\n",
    "icu_ch = f\"{data_ch}covid19_icu_switzerland_openzh.csv\"\n",
    "recovered_ch = f\"{data_ch}covid19_released_switzerland_openzh.csv\""
   ]
  },
  {
   "cell_type": "code",
   "execution_count": 6,
   "metadata": {
    "tags": [
     "remove_cell"
    ]
   },
   "outputs": [],
   "source": [
    "countries = \"../data/external/countries.csv\"\n",
    "demographics_ch = f\"{data_ch}demographics.csv\""
   ]
  },
  {
   "cell_type": "code",
   "execution_count": 7,
   "metadata": {
    "tags": [
     "remove_cell"
    ]
   },
   "outputs": [],
   "source": [
    "df_confirmed = pd.read_csv(confirmed)\n",
    "df_deaths = pd.read_csv(deaths)\n",
    "df_recovered = pd.read_csv(recovered)\n",
    "\n",
    "df_confirmed_ch = pd.read_csv(confirmed_ch)\n",
    "df_deaths_ch = pd.read_csv(deaths_ch)\n",
    "df_hospitalized_ch = pd.read_csv(hospitalized_ch)\n",
    "df_icu_ch = pd.read_csv(icu_ch)\n",
    "df_recovered_ch = pd.read_csv(recovered_ch)\n",
    "\n",
    "df_countries = pd.read_csv(countries)\n",
    "df_demographics_ch = pd.read_csv(demographics_ch)"
   ]
  },
  {
   "cell_type": "code",
   "execution_count": 8,
   "metadata": {
    "tags": [
     "remove_cell"
    ]
   },
   "outputs": [],
   "source": [
    "df = {\n",
    "    \"confirmed\": df_confirmed,\n",
    "    \"deaths\": df_deaths,\n",
    "    \"recovered\": df_recovered\n",
    "}\n",
    "\n",
    "df_ch = {\n",
    "    \"confirmed\": df_confirmed_ch,\n",
    "    \"deaths\": df_deaths_ch,\n",
    "    \"hospitalized\" : df_hospitalized_ch,\n",
    "    \"icu\" : df_icu_ch,\n",
    "    \"recovered\": df_recovered_ch\n",
    "}\n",
    "\n",
    "df_country_codes = df_countries[[\"name\", \"alpha-3\", \"alpha-2\"]]\n",
    "df_country_codes = df_country_codes.rename(columns={\"name\": 'Country/Region'})"
   ]
  },
  {
   "cell_type": "markdown",
   "metadata": {
    "tags": [
     "remove_cell"
    ]
   },
   "source": [
    "## Preprocessing for the world by country"
   ]
  },
  {
   "cell_type": "code",
   "execution_count": 9,
   "metadata": {
    "tags": [
     "remove_cell"
    ]
   },
   "outputs": [],
   "source": [
    "by_country = {\n",
    "    \"confirmed\" : create_by_country_dataframe(df.get(\"confirmed\")),\n",
    "    \"deaths\" : create_by_country_dataframe(df.get(\"deaths\")),\n",
    "    \"recovered\" : create_by_country_dataframe(df.get(\"recovered\"))\n",
    "}"
   ]
  },
  {
   "cell_type": "markdown",
   "metadata": {
    "tags": [
     "remove_cell"
    ]
   },
   "source": [
    "Compute the existing cases and add them to the Dictionnary"
   ]
  },
  {
   "cell_type": "code",
   "execution_count": 10,
   "metadata": {
    "tags": [
     "remove_cell"
    ]
   },
   "outputs": [],
   "source": [
    "# Active cases = total confirmed - total recovered - total deaths\n",
    "by_country[\"existing\"] = by_country[\"confirmed\"] - by_country[\"recovered\"] - by_country[\"deaths\"]"
   ]
  },
  {
   "cell_type": "markdown",
   "metadata": {
    "tags": [
     "remove_cell"
    ]
   },
   "source": [
    "## Preprocessing for Switzerland"
   ]
  },
  {
   "cell_type": "code",
   "execution_count": 11,
   "metadata": {
    "tags": [
     "remove_cell"
    ]
   },
   "outputs": [],
   "source": [
    "ch = {\n",
    "    \"confirmed\" : setDatetimeIndex(df_ch[\"confirmed\"], \"Date\"),\n",
    "    \"deaths\" : setDatetimeIndex(df_ch[\"deaths\"], \"Date\"),\n",
    "    \"hospitalized\" : setDatetimeIndex(df_ch[\"hospitalized\"], \"Date\"),\n",
    "    \"icu\" : setDatetimeIndex(df_ch[\"icu\"], \"Date\"),\n",
    "    \"recovered\" : setDatetimeIndex(df_ch[\"recovered\"], \"Date\")\n",
    "}"
   ]
  },
  {
   "cell_type": "code",
   "execution_count": 12,
   "metadata": {
    "tags": [
     "remove_cell"
    ]
   },
   "outputs": [],
   "source": [
    "by_canton = {\n",
    "    \"confirmed\" : ch[\"confirmed\"],\n",
    "    \"deaths\" : ch[\"deaths\"],\n",
    "    \"hospitalized\" : ch[\"hospitalized\"],\n",
    "    \"icu\" : ch[\"icu\"],\n",
    "    \"recovered\" : ch[\"recovered\"]\n",
    "}"
   ]
  },
  {
   "cell_type": "code",
   "execution_count": 13,
   "metadata": {
    "tags": [
     "remove_cell"
    ]
   },
   "outputs": [],
   "source": [
    "by_canton_filled = {\n",
    "    \"confirmed\" : fill(by_canton[\"confirmed\"]),\n",
    "    \"deaths\" : fill(by_canton[\"deaths\"]),\n",
    "    \"hospitalized\" : fill(by_canton[\"hospitalized\"]),\n",
    "    \"icu\" : fill(by_canton[\"icu\"]),\n",
    "    \"recovered\" : fill(by_canton[\"recovered\"])\n",
    "}"
   ]
  },
  {
   "cell_type": "markdown",
   "metadata": {
    "tags": [
     "remove_cell"
    ]
   },
   "source": [
    "Compute the existing cases and add them to the Dictionnary"
   ]
  },
  {
   "cell_type": "code",
   "execution_count": 14,
   "metadata": {
    "tags": [
     "remove_cell"
    ]
   },
   "outputs": [],
   "source": [
    "by_canton_filled[\"existing\"] = by_canton_filled[\"confirmed\"] - by_canton_filled[\"recovered\"] - by_canton_filled[\"deaths\"]"
   ]
  },
  {
   "cell_type": "markdown",
   "metadata": {
    "tags": [
     "remove_cell"
    ]
   },
   "source": [
    "## Regions of Interest"
   ]
  },
  {
   "cell_type": "code",
   "execution_count": 15,
   "metadata": {
    "tags": [
     "remove_cell"
    ]
   },
   "outputs": [],
   "source": [
    "# For the world\n",
    "CH = [\"Switzerland\"]\n",
    "CH_neighbors = [\"Italy\", \"France\", \"Liechtenstein\", \"Austria\", \"Germany\"]\n",
    "CH_neighbors_no_italy = [\"France\", \"Liechtenstein\", \"Austria\", \"Germany\"]\n",
    "\n",
    "# Bulgaria, Cyprus and Romania are not in the list\n",
    "# Switzerland has been added\n",
    "EU = [\"Switzerland\",\"Austria\",\"Belgium\",\"Croatia\",\"Denmark\",\"Estonia\",\"Finland\",\"France\",\"Germany\",\"Greece\",\"Hungary\",\"Ireland\",\"Italy\",\"Latvia\",\"Lithuania\",\"Luxembourg\",\"Malta\",\"Netherlands\",\"Poland\",\"Portugal\",\"Romania\",\"Slovakia\",\"Slovenia\",\"Spain\",\"Sweden\"]\n",
    "EU_no_italy = [\"Switzerland\",\"Austria\",\"Belgium\",\"Croatia\",\"Denmark\",\"Estonia\",\"Finland\",\"France\",\"Germany\",\"Greece\",\"Hungary\",\"Ireland\",\"Latvia\",\"Lithuania\",\"Luxembourg\",\"Malta\",\"Netherlands\",\"Poland\",\"Portugal\",\"Romania\",\"Slovakia\",\"Slovenia\",\"Spain\",\"Sweden\"]\n",
    "\n",
    "\n",
    "# For Switzerland\n",
    "all_cantons = [\"CH\"]"
   ]
  },
  {
   "cell_type": "markdown",
   "metadata": {
    "tags": [
     "remove_cell"
    ]
   },
   "source": [
    "## Period of Interest"
   ]
  },
  {
   "cell_type": "code",
   "execution_count": 16,
   "metadata": {
    "tags": [
     "remove_cell"
    ]
   },
   "outputs": [],
   "source": [
    "last_n_days = 14"
   ]
  },
  {
   "cell_type": "code",
   "execution_count": 17,
   "metadata": {
    "tags": [
     "remove_cell"
    ]
   },
   "outputs": [],
   "source": [
    "# For the world\n",
    "existing = by_country.get(\"existing\")[-last_n_days:]\n",
    "confirmed = by_country.get(\"confirmed\")[-last_n_days:]\n",
    "deaths = by_country.get(\"deaths\")[-last_n_days:]\n",
    "recovered = by_country.get(\"recovered\")[-last_n_days:]\n",
    "\n",
    "# For CH\n",
    "existing_ch = by_canton_filled.get(\"existing\")[-last_n_days:]\n",
    "confirmed_ch = by_canton_filled.get(\"confirmed\")[-last_n_days:]\n",
    "hospitalized_ch = by_canton_filled.get(\"hospitalized\")[-last_n_days:]\n",
    "deaths_ch = by_canton_filled.get(\"deaths\")[-last_n_days:]\n",
    "recovered_ch = by_canton_filled.get(\"recovered\")[-last_n_days:]"
   ]
  },
  {
   "cell_type": "markdown",
   "metadata": {
    "tags": [
     "remove_cell"
    ]
   },
   "source": [
    "## Switzerland"
   ]
  },
  {
   "cell_type": "code",
   "execution_count": 18,
   "metadata": {
    "tags": [
     "remove_cell"
    ]
   },
   "outputs": [],
   "source": [
    "#swiss_map_path = \"../data/external/swiss-maps/ch-country.json\"\n",
    "swiss_geojson_path = \"../data/external/swiss-geojson/switzerland.geojson\"\n",
    "swiss_gdf = gpd.read_file(swiss_geojson_path)\n",
    "\n",
    "with open(swiss_geojson_path, 'r') as j:\n",
    "    swiss_geojson = json.loads(j.read())\n",
    "\n",
    "canton_names = swiss_gdf[[\"id\", \"name\"]]\n",
    "\n",
    "last_day = {\n",
    "    \"existing\" : by_canton_filled[\"existing\"].iloc[-1].astype(int),\n",
    "    \"confirmed\" : by_canton_filled[\"confirmed\"].iloc[-1].astype(int),\n",
    "    \"deaths\" : by_canton_filled[\"deaths\"].iloc[-1].astype(int),\n",
    "    \"hospitalized\" : by_canton_filled[\"hospitalized\"].iloc[-1].astype(int),\n",
    "    \"icu\" : by_canton_filled[\"icu\"].iloc[-1].astype(int).astype(int),\n",
    "    \"recovered\" : by_canton_filled[\"recovered\"].iloc[-1].astype(int)\n",
    "} \n",
    "\n",
    "\n",
    "last_day = pd.DataFrame([last_day[\"existing\"], \n",
    "                last_day[\"confirmed\"], \n",
    "                last_day[\"deaths\"], \n",
    "                last_day[\"hospitalized\"], \n",
    "                last_day[\"icu\"], \n",
    "                last_day[\"recovered\"]],\n",
    "                index=[\"existing\", \"confirmed\", \"deaths\", \"hospitalized\", \"icu\", \"recovered\"]).T\n",
    "\n",
    "last_day = last_day.reset_index()\n",
    "last_day = last_day.rename(columns={\"index\":\"id\"})\n",
    "last_day = last_day.merge(canton_names, on=\"id\")\n",
    "\n",
    "df_demographics_cantons = df_demographics_ch.drop(index={26})\n",
    "last_day = last_day.merge(df_demographics_cantons, left_on=\"id\", right_on=\"Canton\")\n",
    "\n",
    "last_day[\"confirmed_per_10000\"] = last_day.apply(lambda x : compute_on_x_inhabitant(x[\"confirmed\"], x[\"Population\"], 10000), axis=1).round(0)\n",
    "last_day[\"confirmed_per_10000\"] = last_day[\"confirmed_per_10000\"].astype(int)"
   ]
  },
  {
   "cell_type": "code",
   "execution_count": 19,
   "metadata": {
    "tags": [
     "remove_cell"
    ]
   },
   "outputs": [],
   "source": [
    "# Create the custom data\n",
    "\n",
    "#last_day['confirmed'].astype(str) + \"&nbsp;confirmed<br>\" +\\\n",
    "#last_day['existing'].astype(str) + \"&nbsp;existing<br>\" +\\\n",
    "#last_day['recovered'].astype(str) + \"&nbsp;recovered<br>\" +\\\n",
    "#last_day['hospitalized'].astype(str) + \"&nbsp;hospitalized<br>\" +\\\n",
    "#last_day['icu'].astype(str) + \"&nbsp;icu<br>\" +\\\n",
    "#last_day['deaths'].astype(str) + \"&nbsp;deaths\"\n",
    "\n",
    "last_day['text'] = last_day['confirmed'].astype(str) + \"&nbsp;confirmed<br>\" +\\\n",
    "                   last_day['hospitalized'].astype(str) + \"&nbsp;hospitalized<br>\" +\\\n",
    "                   last_day['deaths'].astype(str) + \"&nbsp;deaths\""
   ]
  },
  {
   "cell_type": "code",
   "execution_count": 20,
   "metadata": {
    "tags": [
     "remove_cell"
    ]
   },
   "outputs": [],
   "source": [
    "info = last_day[[\"id\",\"confirmed_per_10000\"]].copy()\n",
    "info[\"text\"] = info.apply(lambda x : f\"<b>{x.confirmed_per_10000}</b>\" , axis=1)\n",
    "#list(map(lambda x: f\"<b>{x}</b>\", list(get_cantonal_centres().columns.values)))"
   ]
  },
  {
   "cell_type": "code",
   "execution_count": 21,
   "metadata": {
    "tags": [
     "remove_input"
    ]
   },
   "outputs": [
    {
     "ename": "SyntaxError",
     "evalue": "invalid syntax (<ipython-input-21-c82c347ae069>, line 36)",
     "output_type": "error",
     "traceback": [
      "\u001b[0;36m  File \u001b[0;32m\"<ipython-input-21-c82c347ae069>\"\u001b[0;36m, line \u001b[0;32m36\u001b[0m\n\u001b[0;31m    text=last_day[\"name\"],\u001b[0m\n\u001b[0m       ^\u001b[0m\n\u001b[0;31mSyntaxError\u001b[0m\u001b[0;31m:\u001b[0m invalid syntax\n"
     ]
    }
   ],
   "source": [
    "def get_cantonal_centres():\n",
    "    return pd.DataFrame({\n",
    "        \"AG\": {\"lat\": 47.40966, \"lon\": 8.15688},\n",
    "        \"AR\": {\"lat\": 47.366352 - 0.01, \"lon\": 9.36791 - 0.084},\n",
    "        \"AI\": {\"lat\": 47.317264, \"lon\": 9.416754},\n",
    "        \"BE\": {\"lat\": 46.823608, \"lon\": 7.636667},\n",
    "        \"BL\": {\"lat\": 47.45176 - 0.03, \"lon\": 7.702414 + 0.06},\n",
    "        \"BS\": {\"lat\": 47.564869 + 0.09, \"lon\": 7.615259},\n",
    "        \"FR\": {\"lat\": 46.718391, \"lon\": 7.074008},\n",
    "        \"GE\": {\"lat\": 46.220528 - 0.03, \"lon\": 6.132935 - 0.06},\n",
    "        \"GL\": {\"lat\": 46.981042, \"lon\": 9.065751},\n",
    "        \"GR\": {\"lat\": 46.656248, \"lon\": 9.628198},\n",
    "        \"JU\": {\"lat\": 47.350744, \"lon\": 7.156107},\n",
    "        \"LU\": {\"lat\": 47.067763, \"lon\": 8.1102},\n",
    "        \"NE\": {\"lat\": 46.995534, \"lon\": 6.780126},\n",
    "        \"NW\": {\"lat\": 46.926755, \"lon\": 8.405302 + 0.006},\n",
    "        \"OW\": {\"lat\": 46.854527, \"lon\": 8.244317 - 0.02},\n",
    "        \"SH\": {\"lat\": 47.71357, \"lon\": 8.59167 - 0.05},\n",
    "        \"SZ\": {\"lat\": 47.061787, \"lon\": 8.756585},\n",
    "        \"SO\": {\"lat\": 47.304135 + 0.02, \"lon\": 7.639388 + 0.02},\n",
    "        \"SG\": {\"lat\": 47.2332 - 0.07, \"lon\": 9.274744},\n",
    "        \"TG\": {\"lat\": 47.568715, \"lon\": 9.091957},\n",
    "        \"TI\": {\"lat\": 46.295617, \"lon\": 8.808924},\n",
    "        \"UR\": {\"lat\": 46.771849, \"lon\": 8.628586},\n",
    "        \"VD\": {\"lat\": 46.570091, \"lon\": 6.657809 - 0.1},\n",
    "        \"VS\": {\"lat\": 46.209567, \"lon\": 7.604659},\n",
    "        \"ZG\": {\"lat\": 47.157296, \"lon\": 8.537294},\n",
    "        \"ZH\": {\"lat\": 47.41275, \"lon\": 8.65508},\n",
    "    })\n",
    "\n",
    "fig = go.Figure(data=go.Choropleth( \n",
    "    geojson=swiss_geojson,\n",
    "    locations=last_day[\"id\"],\n",
    "    name=\"\",\n",
    "    z=last_day[\"confirmed_per_10000\"],\n",
    "    zmin=0,\n",
    "    zmax=120,\n",
    "    text=last_day[\"name\"],\n",
    "    customdata=last_day[\"text\"],\n",
    "    hovertemplate=\"<b>%{text}</b><br>\"+\\\n",
    "                  \"%{z} per 10'000<br>\"+\\\n",
    "                  \"%{customdata}\",\n",
    "    showscale=True,\n",
    "    colorscale=\"YlOrRd\",\n",
    "    colorbar={\n",
    "        \"xanchor\": \"left\",\n",
    "        \"yanchor\": \"middle\",\n",
    "        \"thickness\": 16,\n",
    "        \"len\":0.6,\n",
    "        \"outlinewidth\": 1,\n",
    "        \"tickmode\": \"array\",\n",
    "        \"tick0\":0,\n",
    "        \"nticks\":10,\n",
    "        \"dtick\":10,\n",
    "        \"ticks\": \"outside\",\n",
    "        \"title\": {\"text\": \"Cases&#8201;/&#8201;10'000<br>inhabitants🧍\"}\n",
    "    }\n",
    "))\n",
    "\n",
    "fig.update_geos(\n",
    "    visible=False,\n",
    "    center={\"lat\":46.798333, \"lon\":8.231944}, # The center of Switzerland \n",
    "    domain={\"x\": [0, 1], \"y\":[0, 1]},\n",
    "    showframe=False,\n",
    "    lonaxis={\"range\" : [5.05, 10.07]},\n",
    "    lataxis={\"range\" : [45.49, 47.94]},\n",
    ")\n",
    "\n",
    "\"\"\"\n",
    "fig.add_trace(go.Scattergeo(\n",
    "    lat=list(get_cantonal_centres().loc[\"lat\"].values),\n",
    "    lon=list(get_cantonal_centres().loc[\"lon\"].values),\n",
    "    textfont={\n",
    "        \"color\": \"#000\",\n",
    "        \"family\": \"Arial\",\n",
    "        \"size\": 12,\n",
    "    },\n",
    "    mode=\"text\",\n",
    "    name=\"\",\n",
    "    #text=list(map(lambda x: f\"<b>{x}</b>\", list(get_cantonal_centres().columns.values))),\n",
    "    text=info[\"text\"],\n",
    "    textposition=[\"top center\"],\n",
    "    hoverinfo=\"none\"\n",
    "))\n",
    "\"\"\"\n",
    "\n",
    "\n",
    "\n",
    "fig.update_layout(\n",
    "    geo={\n",
    "        'projection_type': \"mercator\",\n",
    "        'projection.scale': 1.05,\n",
    "    },\n",
    "    autosize=True,\n",
    "    margin={\"r\":0,\"t\":0,\"l\":0,\"b\":0},\n",
    "    height=600,\n",
    "    \n",
    ")\n",
    "\n",
    "fig.show(\n",
    "     config={\n",
    "         'scrollZoom': False,\n",
    "         'displayModeBar': False\n",
    "     },\n",
    ")"
   ]
  },
  {
   "cell_type": "markdown",
   "metadata": {},
   "source": [
    "<center>☝️Hover on the map for some informations!💡</center>\n",
    "\n",
    "---"
   ]
  },
  {
   "cell_type": "code",
   "execution_count": null,
   "metadata": {
    "tags": [
     "remove_cell"
    ]
   },
   "outputs": [],
   "source": [
    "# Linear Regression\n",
    "df = existing_ch[\"CH\"].diff()[1:]\n",
    "X = df.index.factorize()[0].reshape(-1,1)\n",
    "Y = df.values\n",
    "m = LinearRegression().fit(X, Y)\n",
    "Y_pred = m.predict(X)\n",
    "Y_pred = pd.DataFrame(Y_pred)\n",
    "Y_pred.index = df.index\n",
    "Y_pred = Y_pred.rename(columns={0:\"Trend\"})"
   ]
  },
  {
   "cell_type": "code",
   "execution_count": null,
   "metadata": {
    "tags": [
     "remove_input"
    ]
   },
   "outputs": [],
   "source": [
    "fig, (ax1, ax2) = plt.subplots(1,2)\n",
    "    \n",
    "ax1 = existing_ch[all_cantons].plot(ax=ax1, title=\"Evolution of Cases in Switzerland\")\n",
    "ax1 = hospitalized_ch[all_cantons].plot(ax=ax1)\n",
    "ax1 = deaths_ch[all_cantons].sum(axis=1).plot(ax=ax1)\n",
    "ax1.set_xlabel(None)\n",
    "ax1log = ax1.twinx()\n",
    "ax1log = existing_ch[all_cantons].sum(axis=1).plot(ax=ax1log, logy=True, style=\"--\")\n",
    "\n",
    "Y_pred.plot(ax=ax2, figsize=(16,6), style=\"--\");\n",
    "existing_ch[all_cantons].diff().plot(ax=ax2, style=\".\", color=\"black\", title=\"Evolution of New Cases per Day in Switzerland\");\n",
    "ax2.set_xlabel(None)\n",
    "\n",
    "ax1.legend([\"Existing (log scale in dashed)\", \"Hospitalizations\",\"Deaths\"]);\n",
    "ax2.legend([\"Trend\", \"New Cases\"]);"
   ]
  },
  {
   "cell_type": "markdown",
   "metadata": {
    "tags": [
     "remove_cell"
    ]
   },
   "source": [
    "## Neighboring Countries"
   ]
  },
  {
   "cell_type": "code",
   "execution_count": null,
   "metadata": {
    "tags": [
     "remove_cell"
    ]
   },
   "outputs": [],
   "source": [
    "df1 = pd.DataFrame(by_country[\"existing\"][CH_neighbors].iloc[-1].astype(int))\n",
    "df1_ch = pd.DataFrame(by_canton_filled[\"existing\"][all_cantons].iloc[-1].astype(int))\n",
    "\n",
    "df2 = pd.DataFrame(by_country[\"deaths\"][CH_neighbors].iloc[-1].astype(int))\n",
    "df2_ch = pd.DataFrame(by_canton_filled[\"deaths\"][all_cantons].iloc[-1].astype(int))\n",
    "\n",
    "df1.rename(columns={df1.columns[-1]:\"Existing\"}, inplace=True)\n",
    "df1_ch.rename(columns={df1_ch.columns[-1]:\"Existing\"}, index={'CH': 'Switzerland'}, inplace=True)\n",
    "df1 = df1.append(df1_ch)\n",
    "\n",
    "df2.rename(columns={df2.columns[-1]:\"Deaths\"}, inplace=True)\n",
    "df2_ch.rename(columns={df2_ch.columns[-1]:\"Deaths\"}, index={'CH': 'Switzerland'}, inplace=True)\n",
    "df2 = df2.append(df2_ch)\n",
    "\n",
    "df = pd.concat([df1,df2], axis=1)\n",
    "df = df.sort_values(\"Existing\", ascending=False)"
   ]
  },
  {
   "cell_type": "code",
   "execution_count": null,
   "metadata": {
    "tags": [
     "remove_input"
    ]
   },
   "outputs": [],
   "source": [
    "fig, (ax1, ax2) = plt.subplots(1,2)\n",
    "\n",
    "ax1.grid(True)\n",
    "ax1.set_ymargin(0.1)\n",
    "df.plot.bar(title=\"Current Cases in Neighboring Countries\", \n",
    "            ax=ax1, \n",
    "            width=0.85,\n",
    "            figsize=(16,6));\n",
    "for p in ax1.patches:\n",
    "    ax1.annotate(str(p.get_height()), \n",
    "                 (p.get_x()+p.get_width()/2, p.get_height()+100), \n",
    "                 ha='center', \n",
    "                 va='center', \n",
    "                 xytext=(0, 6),\n",
    "                 textcoords='offset points',\n",
    "                 #fontweight=\"semibold\",\n",
    "                 rotation=0)\n",
    "\n",
    "dfe = by_country[\"existing\"]\n",
    "dfe.sum(axis=1).plot(ax=ax2, title=\"Evolution of Cases at Different Scales\");\n",
    "dfe[EU].sum(axis=1).plot(ax=ax2)\n",
    "dfe[CH_neighbors].sum(axis=1).plot(ax=ax2)\n",
    "dfe[CH].sum(axis=1).plot(ax=ax2)\n",
    "\n",
    "ax2.legend([\"World\", \"Europe\", \"Neighbors\", \"Switzerland\"]);"
   ]
  },
  {
   "cell_type": "markdown",
   "metadata": {
    "tags": [
     "remove_cell"
    ]
   },
   "source": [
    "## World\n",
    "\n",
    "⚠️ Plot in beta ⚠️"
   ]
  },
  {
   "cell_type": "code",
   "execution_count": null,
   "metadata": {
    "tags": [
     "remove_cell"
    ]
   },
   "outputs": [],
   "source": [
    "# Get iso alpha-2 from coords\n",
    "data_countries=df_confirmed[[\"Lat\", \"Long\", \"Country/Region\", \"Province/State\"]].copy()\n",
    "data_countries[\"latlon\"] = data_countries.apply(lambda x : (x.Lat, x.Long), axis=1)\n",
    "codes = rg.search(data_countries[\"latlon\"].to_list())\n",
    "data_countries=df_confirmed[[\"Lat\", \"Long\", \"Country/Region\", \"Province/State\"]]\n",
    "data_countries[\"alpha-2\"] = list(map(lambda x : x[\"cc\"], codes))"
   ]
  },
  {
   "cell_type": "code",
   "execution_count": null,
   "metadata": {
    "tags": [
     "remove_cell"
    ]
   },
   "outputs": [],
   "source": [
    "# Get existing cases data and preprocess it\n",
    "last_existing = by_country[\"existing\"].tail(1).T\n",
    "last_existing = last_existing.reset_index()\n",
    "last_existing = last_existing.rename(columns={last_existing.columns[1] : \"Cases\"})\n",
    "last_existing = pd.merge(last_existing, data_countries, on='Country/Region', how=\"outer\")\n",
    "last_existing = last_existing.rename(columns={'Country/Region' : \"name\"})\n",
    "last_existing[\"alpha-3\"] = last_existing.apply(lambda x : countrynames.to_code_3(x[\"alpha-2\"]), axis=1)"
   ]
  },
  {
   "cell_type": "code",
   "execution_count": null,
   "metadata": {
    "tags": [
     "remove_cell"
    ]
   },
   "outputs": [],
   "source": [
    "# Load the map and simplify it\n",
    "gdf = gpd.read_file(gpd.datasets.get_path('naturalearth_lowres'))\n",
    "gdf = gdf[(gdf.name != \"Antarctica\") & (gdf.name != \"Fr. S. Antarctic Lands\")]\n",
    "gdf = gdf.to_crs(\"EPSG:4326\")"
   ]
  },
  {
   "cell_type": "code",
   "execution_count": null,
   "metadata": {
    "tags": [
     "remove_cell"
    ]
   },
   "outputs": [],
   "source": [
    "# Add some iso alpha 3 corrections\n",
    "# See : gdf.loc[gdf[\"iso_a3\"]==\"-99\"]\n",
    "\n",
    "idx1 = gdf.loc[gdf[\"name\"] == \"Norway\"].index.values[0]\n",
    "idx2 = gdf.loc[gdf[\"name\"] == \"France\"].index.values[0]\n",
    "idx3 = gdf.loc[gdf[\"name\"] == \"N. Cyprus\"].index.values[0]\n",
    "idx4 = gdf.loc[gdf[\"name\"] == \"Somaliland\"].index.values[0]\n",
    "idx5 = gdf.loc[gdf[\"name\"] == \"Kosovo\"].index.values[0]\n",
    "\n",
    "gdf.at[idx1, \"iso_a3\"] = \"NOR\"\n",
    "gdf.at[idx2, \"iso_a3\"] = \"FRA\"\n",
    "gdf.at[idx3, \"iso_a3\"] = \"CYP\"\n",
    "gdf.at[idx4, \"iso_a3\"] = \"SOM\"\n",
    "gdf.at[idx5, \"iso_a3\"] = \"XKX\""
   ]
  },
  {
   "cell_type": "code",
   "execution_count": null,
   "metadata": {
    "tags": [
     "remove_cell"
    ]
   },
   "outputs": [],
   "source": [
    "# Add Cases data to the GeoDataFrame\n",
    "last_existing = last_existing.rename(columns={\"alpha-3\":\"iso_a3\"})\n",
    "gdfc = gdf.merge(last_existing, on=\"iso_a3\", how=\"left\")\n",
    "gdfc[\"Cases\"].fillna(value=0, inplace=True)"
   ]
  },
  {
   "cell_type": "code",
   "execution_count": null,
   "metadata": {
    "tags": [
     "remove_cell"
    ]
   },
   "outputs": [],
   "source": [
    "# Make the scale divisions\n",
    "s_1 = mc.FisherJenks(gdfc['Cases'], k=10)\n",
    "bins = list(map(round_up, s_1.bins))\n",
    "scheme = mc.UserDefined(gdfc['Cases'], bins=bins)"
   ]
  },
  {
   "cell_type": "code",
   "execution_count": null,
   "metadata": {
    "tags": [
     "remove_cell"
    ]
   },
   "outputs": [],
   "source": [
    "gplt.choropleth(gdfc,\n",
    "                scheme=scheme,\n",
    "                projection=gplt.crs.Robinson(), \n",
    "                hue='Cases', \n",
    "                cmap=\"Reds\", \n",
    "                legend=True,\n",
    "                figsize=(16,10),\n",
    "                edgecolor=\"black\",\n",
    "                linewidth=0.3,\n",
    "                legend_kwargs={\n",
    "                    'title': \"Cases\",\n",
    "                    'loc': 'lower left'}\n",
    ");\n",
    "\n",
    "plt.title(\"Number of Existing Cases in the World\");"
   ]
  },
  {
   "cell_type": "markdown",
   "metadata": {},
   "source": [
    "---\n",
    "- **Author** : Fred Montet (https://twitter.com/fredmontet)\n",
    "- **Repository** : https://github.com/fredmontet/co-vidis\n",
    "- **Last Update** : ⬇️"
   ]
  },
  {
   "cell_type": "code",
   "execution_count": null,
   "metadata": {
    "tags": [
     "remove_input"
    ]
   },
   "outputs": [],
   "source": [
    "print(f\"World : {by_country['existing'].iloc[-1].name.date()} | Switzerland : {by_canton_filled['existing'].iloc[-1].name.date()}\")"
   ]
  }
 ],
 "metadata": {
  "celltoolbar": "Tags",
  "kernelspec": {
   "display_name": "Python 3",
   "language": "python",
   "name": "python3"
  },
  "language_info": {
   "codemirror_mode": {
    "name": "ipython",
    "version": 3
   },
   "file_extension": ".py",
   "mimetype": "text/x-python",
   "name": "python",
   "nbconvert_exporter": "python",
   "pygments_lexer": "ipython3",
   "version": "3.7.6"
  }
 },
 "nbformat": 4,
 "nbformat_minor": 4
}
